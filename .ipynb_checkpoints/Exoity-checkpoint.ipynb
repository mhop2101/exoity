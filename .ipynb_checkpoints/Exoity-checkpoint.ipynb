{
 "cells": [
  {
   "cell_type": "markdown",
   "metadata": {},
   "source": [
    "## Imports"
   ]
  },
  {
   "cell_type": "code",
   "execution_count": 1,
   "metadata": {},
   "outputs": [],
   "source": [
    "from datetime import datetime as dt\n",
    "import MetaTrader5 as mt5\n",
    "from time import sleep\n",
    "import pandas as pd\n",
    "import pytz"
   ]
  },
  {
   "cell_type": "markdown",
   "metadata": {},
   "source": [
    "## MT5 relevant info"
   ]
  },
  {
   "cell_type": "code",
   "execution_count": 2,
   "metadata": {},
   "outputs": [
    {
     "name": "stdout",
     "output_type": "stream",
     "text": [
      "MetaTrader5 package author:  MetaQuotes Software Corp.\n",
      "MetaTrader5 package version:  5.0.33\n"
     ]
    }
   ],
   "source": [
    "# display data on the MetaTrader 5 package\n",
    "print(\"MetaTrader5 package author: \",mt5.__author__)\n",
    "print(\"MetaTrader5 package version: \",mt5.__version__)"
   ]
  },
  {
   "cell_type": "markdown",
   "metadata": {},
   "source": [
    "## MT5 connect"
   ]
  },
  {
   "cell_type": "code",
   "execution_count": 3,
   "metadata": {},
   "outputs": [
    {
     "name": "stdout",
     "output_type": "stream",
     "text": [
      "True\n"
     ]
    }
   ],
   "source": [
    "# establish connection to the MetaTrader 5 terminal\n",
    "if not mt5.initialize():\n",
    "    print(\"initialize() failed, error code =\",mt5.last_error())\n",
    "    quit()\n",
    "else:\n",
    "    print(mt5.initialize())"
   ]
  },
  {
   "cell_type": "markdown",
   "metadata": {},
   "source": [
    "## Trading conditions"
   ]
  },
  {
   "cell_type": "code",
   "execution_count": 4,
   "metadata": {},
   "outputs": [],
   "source": [
    "class Symbol:\n",
    "    \n",
    "    def __init__(self,\n",
    "                 name=\"\",\n",
    "                 lot_size=0,\n",
    "                 stop_loss=0,\n",
    "                 take_profit=0,\n",
    "                 dataframe_M15=pd.DataFrame(),\n",
    "                 dataframe_M30=pd.DataFrame(),\n",
    "                 dataframe_H1=pd.DataFrame(),\n",
    "                 dataframe_H4=pd.DataFrame()):\n",
    "        \n",
    "        self.name = name\n",
    "        self.lot_size = lot_size\n",
    "        self.stop_loss = stop_loss\n",
    "        self.take_profit = take_profit\n",
    "        self.dataframe_M15 = dataframe_M15\n",
    "        self.dataframe_M30 = dataframe_M30\n",
    "        self.dataframe_H1 = dataframe_H1\n",
    "        self.dataframe_H4 = dataframe_H4\n"
   ]
  },
  {
   "cell_type": "code",
   "execution_count": 5,
   "metadata": {},
   "outputs": [],
   "source": [
    "Volatility_10 = Symbol(name=\"Volatility 10 Index\",\n",
    "                       lot_size=0.3,\n",
    "                       stop_loss=4000,\n",
    "                       take_profit=2000)\n",
    "\n",
    "Volatility_10_1s = Symbol(name=\"Volatility 10 (1s) Index\",\n",
    "                          lot_size=0.2,\n",
    "                          stop_loss=500,\n",
    "                          take_profit=1000)\n",
    "\n",
    "Volatility_25 = Symbol(name=\"Volatility 25 Index\",\n",
    "                       lot_size=0.5,\n",
    "                       stop_loss=6000,\n",
    "                       take_profit=3000)\n",
    "\n",
    "Volatility_25_1s = Symbol(name=\"Volatility 25 (1s) Index\",\n",
    "                          lot_size=0.005,\n",
    "                          stop_loss=45000,\n",
    "                          take_profit=22000)\n",
    "\n",
    "Volatility_50 = Symbol(name=\"Volatility 50 Index\",\n",
    "                       lot_size=3,\n",
    "                       stop_loss=5000,\n",
    "                       take_profit=2500)\n",
    "\n",
    "Volatility_50_1s = Symbol(name=\"Volatility 50 (1s) Index\",\n",
    "                          lot_size=0.005,\n",
    "                          stop_loss=60000,\n",
    "                          take_profit=30000)\n",
    "\n",
    "Volatility_75 = Symbol(name=\"Volatility 75 Index\",\n",
    "                       lot_size=0.001,\n",
    "                       stop_loss=250000,\n",
    "                       take_profit=100000)\n",
    "\n",
    "Volatility_75_1s = Symbol(name=\"Volatility 75 (1s) Index\",\n",
    "                          lot_size=0.005,\n",
    "                          stop_loss=4600,\n",
    "                          take_profit=2300)\n",
    "\n",
    "Volatility_100 = Symbol(name=\"Volatility 100 Index\",\n",
    "                        lot_size=0.2,\n",
    "                        stop_loss=2000,\n",
    "                        take_profit=1000)\n",
    "\n",
    "Volatility_100_1s = Symbol(name=\"Volatility 100 (1s) Index\",\n",
    "                           lot_size=0.1,\n",
    "                           stop_loss=4600,\n",
    "                           take_profit=2300)\n",
    "\n",
    "Step_index = Symbol(name=\"Step Index\",\n",
    "                    lot_size=0.1,\n",
    "                    stop_loss=40,\n",
    "                    take_profit=20)\n",
    "\n",
    "Boom_500 = Symbol(name=\"Boom 500 Index\",\n",
    "                    lot_size=0.2,\n",
    "                    stop_loss=50000,\n",
    "                    take_profit=50000)\n",
    "\n",
    "Boom_1000 = Symbol(name=\"Boom 1000 Index\",\n",
    "                    lot_size=0.2,\n",
    "                    stop_loss=50000,\n",
    "                    take_profit=50000)\n",
    "\n",
    "Crash_500 = Symbol(name=\"Crash 500 Index\",\n",
    "                    lot_size=0.2,\n",
    "                    stop_loss=50000,\n",
    "                    take_profit=50000)\n",
    "\n",
    "Crash_1000 = Symbol(name=\"Crash 1000 Index\",\n",
    "                    lot_size=0.2,\n",
    "                    stop_loss=50000,\n",
    "                    take_profit=50000)\n",
    "\n"
   ]
  },
  {
   "cell_type": "code",
   "execution_count": 6,
   "metadata": {},
   "outputs": [],
   "source": [
    "SYMBOLS = [\n",
    "           Volatility_10,\n",
    "           Volatility_10_1s,\n",
    "           Volatility_25,\n",
    "           Volatility_25_1s,\n",
    "           Volatility_50,\n",
    "           Volatility_50_1s,\n",
    "           Volatility_75,\n",
    "           Volatility_75_1s,\n",
    "           Volatility_100,\n",
    "           Volatility_100_1s,\n",
    "           Step_index,\n",
    "           Crash_1000,\n",
    "           Crash_500,\n",
    "           Boom_1000,\n",
    "           Boom_500\n",
    "          ]\n",
    "\n",
    "TIMEFRAMES = [\n",
    "    mt5.TIMEFRAME_M15,\n",
    "    mt5.TIMEFRAME_M30,\n",
    "    mt5.TIMEFRAME_H1,\n",
    "    mt5.TIMEFRAME_H4    \n",
    "]\n"
   ]
  },
  {
   "cell_type": "code",
   "execution_count": 7,
   "metadata": {},
   "outputs": [],
   "source": [
    "current_tick = float()\n",
    "last_tick = float()"
   ]
  },
  {
   "cell_type": "code",
   "execution_count": 8,
   "metadata": {},
   "outputs": [],
   "source": [
    "symbol_to_trade = Volatility_10_1s\n",
    "timeframe = 60\n",
    "close_order_deviation = 20\n",
    "current_ea_comments = \"Exoity V1.3\""
   ]
  },
  {
   "cell_type": "markdown",
   "metadata": {},
   "source": [
    "## Defining tick, buy and sell functions"
   ]
  },
  {
   "cell_type": "code",
   "execution_count": 9,
   "metadata": {},
   "outputs": [],
   "source": [
    "def get_last_tick(symbol):\n",
    "    last_tick = mt5.symbol_info_tick(symbol)\n",
    "    return last_tick"
   ]
  },
  {
   "cell_type": "code",
   "execution_count": 10,
   "metadata": {},
   "outputs": [],
   "source": [
    "def send_order_sell(symbol = \"Volatility 75 Index\", comments = \"python script open\",lot_size=0.001,take_profit=250000,stop_loss=100000):\n",
    "    # prepare the sell request structure\n",
    "    symbol_info = mt5.symbol_info(symbol)\n",
    "    \n",
    "    if symbol_info is None:\n",
    "        print(symbol, \"not found, can not call order_check()\")\n",
    "        mt5.shutdown()\n",
    "        quit()\n",
    "\n",
    "    lot = lot_size\n",
    "    STOP_LOSS = stop_loss\n",
    "    TAKE_PROFIT = take_profit\n",
    "    #lot = 1.5\n",
    "    point = mt5.symbol_info(symbol).point\n",
    "    price = mt5.symbol_info_tick(symbol).bid\n",
    "    deviation = 20\n",
    "    request = {\n",
    "        \"action\": mt5.TRADE_ACTION_DEAL,\n",
    "        \"symbol\": symbol,\n",
    "        \"volume\": lot,\n",
    "        \"type\": mt5.ORDER_TYPE_SELL,\n",
    "        \"price\": price,\n",
    "        \"sl\": price + STOP_LOSS * point,\n",
    "        \"tp\": price - TAKE_PROFIT * point,\n",
    "        \"deviation\": deviation,\n",
    "        \"magic\": 234000,\n",
    "        \"comment\": comments,\n",
    "        \"type_time\": mt5.ORDER_TIME_GTC,\n",
    "        \"type_filling\": mt5.ORDER_FILLING_FOK,\n",
    "    }\n",
    "\n",
    "    # send a trading request\n",
    "    result = mt5.order_send(request)\n",
    "    \n",
    "    return result, request"
   ]
  },
  {
   "cell_type": "code",
   "execution_count": 11,
   "metadata": {},
   "outputs": [],
   "source": [
    "def send_order_buy(symbol = \"Volatility 75 Index\", comments = \"python script open\",lot_size=0.001,take_profit=250000,stop_loss=100000):\n",
    "    # prepare the buy request structure\n",
    "    symbol_info = mt5.symbol_info(symbol)\n",
    "    \n",
    "    if symbol_info is None:\n",
    "        print(symbol, \"not found, can not call order_check()\")\n",
    "        mt5.shutdown()\n",
    "        quit()\n",
    "\n",
    "    lot = lot_size\n",
    "    STOP_LOSS = stop_loss\n",
    "    TAKE_PROFIT = take_profit\n",
    "    #lot = 1.5\n",
    "    point = mt5.symbol_info(symbol).point\n",
    "    price = mt5.symbol_info_tick(symbol).ask\n",
    "    deviation = 20\n",
    "    request = {\n",
    "        \"action\": mt5.TRADE_ACTION_DEAL,\n",
    "        \"symbol\": symbol,\n",
    "        \"volume\": lot,\n",
    "        \"type\": mt5.ORDER_TYPE_BUY,\n",
    "        \"price\": price,\n",
    "        \"sl\": price - STOP_LOSS * point,\n",
    "        \"tp\": price + TAKE_PROFIT * point,\n",
    "        \"deviation\": deviation,\n",
    "        \"magic\": 234000,\n",
    "        \"comment\": comments,\n",
    "        \"type_time\": mt5.ORDER_TIME_GTC,\n",
    "        \"type_filling\": mt5.ORDER_FILLING_FOK,\n",
    "    }\n",
    "\n",
    "    # send a trading request\n",
    "    result = mt5.order_send(request)\n",
    "    \n",
    "    return result, request"
   ]
  },
  {
   "cell_type": "code",
   "execution_count": 12,
   "metadata": {},
   "outputs": [],
   "source": [
    "def close_trade(action, buy_request, result, deviation):\n",
    "    '''\n",
    "        https://www.mql5.com/en/docs/integration/python_metatrader5/mt5ordersend_py\n",
    "    '''\n",
    "    # create a close request\n",
    "    symbol = buy_request['symbol']\n",
    "    if action == 'buy':\n",
    "        trade_type = mt5.ORDER_TYPE_BUY\n",
    "        price = mt5.symbol_info_tick(symbol).ask\n",
    "    elif action =='sell':\n",
    "        trade_type = mt5.ORDER_TYPE_SELL\n",
    "        price = mt5.symbol_info_tick(symbol).bid\n",
    "    position_id=result.order\n",
    "    lot = buy_request['volume']\n",
    "\n",
    "    close_request={\n",
    "        \"action\": mt5.TRADE_ACTION_DEAL,\n",
    "        \"symbol\": symbol,\n",
    "        \"volume\": lot,\n",
    "        \"type\": trade_type,\n",
    "        \"position\": position_id,\n",
    "        \"price\": price,\n",
    "        \"deviation\": deviation,\n",
    "        \"magic\": 12000,\n",
    "        \"comment\": \"python script close\",\n",
    "        \"type_time\": mt5.ORDER_TIME_GTC, # good till cancelled\n",
    "        \"type_filling\": mt5.ORDER_FILLING_FOK,\n",
    "    }\n",
    "    # send a close request\n",
    "    result = mt5.order_send(close_request)\n",
    "    return result"
   ]
  },
  {
   "cell_type": "markdown",
   "metadata": {},
   "source": [
    "## Testing the best symbol to run the strategy on"
   ]
  },
  {
   "cell_type": "code",
   "execution_count": 13,
   "metadata": {},
   "outputs": [],
   "source": [
    "def determine_result(open_price,close_price):\n",
    "    if open_price > close_price:\n",
    "        return 'negative'\n",
    "    elif open_price <= close_price:\n",
    "        return 'positive'"
   ]
  },
  {
   "cell_type": "code",
   "execution_count": 14,
   "metadata": {},
   "outputs": [],
   "source": [
    "date_from = dt(2019,1,1)\n",
    "date_to = dt(2021,3,1)"
   ]
  },
  {
   "cell_type": "code",
   "execution_count": 15,
   "metadata": {
    "scrolled": false
   },
   "outputs": [],
   "source": [
    "for symbol in SYMBOLS:\n",
    "    \n",
    "    for timeframe in TIMEFRAMES: \n",
    "        \n",
    "        if timeframe == mt5.TIMEFRAME_M15:\n",
    "            rates = mt5.copy_rates_range(symbol.name, mt5.TIMEFRAME_M15, date_from, date_to)\n",
    "            rates_frame = pd.DataFrame(rates)\n",
    "            rates_frame = rates_frame.drop(['real_volume','time','spread','tick_volume'],axis=1)\n",
    "            symbol.dataframe_M15 = rates_frame\n",
    "            symbol.dataframe_M15[\"result\"] = symbol.dataframe_M15.apply(lambda row: determine_result(row['open'],row['close']),axis=1)\n",
    "        \n",
    "        if timeframe == mt5.TIMEFRAME_M30:\n",
    "            rates = mt5.copy_rates_range(symbol.name, mt5.TIMEFRAME_M30, date_from, date_to)\n",
    "            rates_frame = pd.DataFrame(rates)\n",
    "            rates_frame = rates_frame.drop(['real_volume','time','spread','tick_volume'],axis=1)\n",
    "            symbol.dataframe_M30 = rates_frame\n",
    "            symbol.dataframe_M30[\"result\"] = symbol.dataframe_M30.apply(lambda row: determine_result(row['open'],row['close']),axis=1)\n",
    "            \n",
    "        if timeframe == mt5.TIMEFRAME_H1:\n",
    "            rates = mt5.copy_rates_range(symbol.name, mt5.TIMEFRAME_H1, date_from, date_to)\n",
    "            rates_frame = pd.DataFrame(rates)\n",
    "            rates_frame = rates_frame.drop(['real_volume','time','spread','tick_volume'],axis=1)\n",
    "            symbol.dataframe_H1 = rates_frame\n",
    "            symbol.dataframe_H1[\"result\"] = symbol.dataframe_H1.apply(lambda row: determine_result(row['open'],row['close']),axis=1)\n",
    "            \n",
    "        if timeframe == mt5.TIMEFRAME_H4:\n",
    "            rates = mt5.copy_rates_range(symbol.name, mt5.TIMEFRAME_H4, date_from, date_to)\n",
    "            rates_frame = pd.DataFrame(rates)\n",
    "            rates_frame = rates_frame.drop(['real_volume','time','spread','tick_volume'],axis=1)\n",
    "            symbol.dataframe_H4 = rates_frame\n",
    "            symbol.dataframe_H4[\"result\"] = symbol.dataframe_H4.apply(lambda row: determine_result(row['open'],row['close']),axis=1)"
   ]
  },
  {
   "cell_type": "code",
   "execution_count": 16,
   "metadata": {
    "scrolled": true
   },
   "outputs": [
    {
     "name": "stdout",
     "output_type": "stream",
     "text": [
      "Volatility 10 (1s) Index at H1 => 0.504574019568849\n",
      "Volatility 50 (1s) Index at M30 => 0.5041894073333846\n",
      "Crash 1000 Index at M15 => 0.5215092269478689\n",
      "Crash 1000 Index at M30 => 0.5102389078498294\n",
      "Crash 1000 Index at H1 => 0.5062157221206581\n",
      "Crash 500 Index at M15 => 0.5102834036323073\n",
      "Boom 1000 Index at M15 => 0.526507474513509\n",
      "Boom 1000 Index at M30 => 0.5108483666504144\n",
      "Boom 500 Index at M15 => 0.51188691741904\n"
     ]
    }
   ],
   "source": [
    "for symbol in SYMBOLS:\n",
    "    timeframes = [\n",
    "                    symbol.dataframe_M15,\n",
    "                    symbol.dataframe_M30,\n",
    "                    symbol.dataframe_H1,\n",
    "                    symbol.dataframe_H4\n",
    "                 ]\n",
    "    names = [\n",
    "                \"M15\",\n",
    "                \"M30\",\n",
    "                \"H1\",\n",
    "                \"H4\"\n",
    "            ]\n",
    "    for timeframe, name in zip(timeframes,names):\n",
    "        \n",
    "        candles = timeframe['result'].tolist()\n",
    "\n",
    "        win_rate = float()\n",
    "        win_qty = float()\n",
    "\n",
    "\n",
    "        for i in range(0, len(candles)):\n",
    "            try:\n",
    "                if candles[i] == candles[i+1]:\n",
    "                    win_qty += 1\n",
    "            except:\n",
    "                pass \n",
    "\n",
    "\n",
    "        win_rate = win_qty / len(candles)\n",
    "        if win_rate >= 0.5041:\n",
    "            print(\"{} at {} => {}\".format(symbol.name, name, win_rate))"
   ]
  },
  {
   "cell_type": "markdown",
   "metadata": {},
   "source": [
    "## Execute the cell below to run strategy"
   ]
  },
  {
   "cell_type": "code",
   "execution_count": 106,
   "metadata": {
    "scrolled": false
   },
   "outputs": [],
   "source": [
    "has_last_price = False\n",
    "buy_signal = False\n",
    "sell_signal = False\n",
    "\n",
    "while True:\n",
    "\n",
    "\n",
    "    if has_last_price == False and dt.now().minute % timeframe == 0:\n",
    "        last_price = get_last_tick(symbol_to_trade.name).ask\n",
    "        has_last_price = True\n",
    "\n",
    "        sleep(180)\n",
    "\n",
    "    if has_last_price == True and dt.now().minute % timeframe == 0:\n",
    "        current_price = get_last_tick(symbol_to_trade.name).ask\n",
    "\n",
    "        delta = current_price - last_price\n",
    "        if delta > 0:\n",
    "            buy_signal = True\n",
    "        else:\n",
    "            sell_signal = True\n",
    "\n",
    "        break\n",
    "\n",
    "    sleep(1)"
   ]
  },
  {
   "cell_type": "code",
   "execution_count": 107,
   "metadata": {},
   "outputs": [],
   "source": [
    "\n",
    "if buy_signal == True:\n",
    "    result, request = send_order_buy(symbol=symbol_to_trade.name,\n",
    "                                     lot_size=symbol_to_trade.lot_size,\n",
    "                                     stop_loss=symbol_to_trade.stop_loss,\n",
    "                                     take_profit=symbol_to_trade.take_profit,\n",
    "                                     comments=current_ea_comments)\n",
    "elif sell_signal == True:\n",
    "    result, request = send_order_sell(symbol=symbol_to_trade.name,\n",
    "                                      lot_size=symbol_to_trade.lot_size,\n",
    "                                      stop_loss=symbol_to_trade.stop_loss,\n",
    "                                      take_profit=symbol_to_trade.take_profit,\n",
    "                                      comments=current_ea_comments)\n",
    "\n",
    "sleep(80)\n"
   ]
  },
  {
   "cell_type": "code",
   "execution_count": null,
   "metadata": {},
   "outputs": [],
   "source": [
    "while True:\n",
    "    buy_signal = False\n",
    "    sell_signal = False\n",
    "    if dt.now().minute % timeframe == 0:\n",
    "\n",
    "        close_trade('sell',request,result,close_order_deviation)\n",
    "        close_trade('buy',request,result,close_order_deviation)\n",
    "\n",
    "        last_price = current_price\n",
    "        current_price = get_last_tick(symbol_to_trade.name).ask\n",
    "        delta = current_price - last_price\n",
    "\n",
    "        if delta > 0:\n",
    "            buy_signal = True\n",
    "        elif delta < 0:\n",
    "            sell_signal = True\n",
    "\n",
    "        if buy_signal == True:\n",
    "            result, request = send_order_buy(symbol=symbol_to_trade.name,\n",
    "                                             lot_size=symbol_to_trade.lot_size,\n",
    "                                             stop_loss=symbol_to_trade.stop_loss,\n",
    "                                             take_profit=symbol_to_trade.take_profit,\n",
    "                                             comments=current_ea_comments)\n",
    "        elif sell_signal == True:\n",
    "            result, request = send_order_sell(symbol=symbol_to_trade.name,\n",
    "                                              lot_size=symbol_to_trade.lot_size,\n",
    "                                              stop_loss=symbol_to_trade.stop_loss,\n",
    "                                              take_profit=symbol_to_trade.take_profit,\n",
    "                                              comments=current_ea_comments)\n",
    "\n",
    "        sleep(120)\n",
    "\n",
    "    sleep(1)\n"
   ]
  }
 ],
 "metadata": {
  "kernelspec": {
   "display_name": "Python 3",
   "language": "python",
   "name": "python3"
  },
  "language_info": {
   "codemirror_mode": {
    "name": "ipython",
    "version": 3
   },
   "file_extension": ".py",
   "mimetype": "text/x-python",
   "name": "python",
   "nbconvert_exporter": "python",
   "pygments_lexer": "ipython3",
   "version": "3.7.6"
  }
 },
 "nbformat": 4,
 "nbformat_minor": 4
}
